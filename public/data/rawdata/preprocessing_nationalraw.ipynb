{
 "cells": [
  {
   "cell_type": "code",
   "execution_count": 1,
   "metadata": {},
   "outputs": [],
   "source": [
    "import csv\n",
    "import json\n",
    "import pandas as pd\n",
    "import numpy as np\n",
    "from pprint import pprint\n",
    "from collections import defaultdict, Counter\n",
    "from dateutil.parser import *\n",
    "\n",
    "\n",
    "\n",
    "\n",
    "def nationalraw(fn=\"nationalraw.csv\"):\n",
    "\n",
    "    varmap = {}\n",
    "    with open(\"variable_mapping.json\", \"r\") as fp:\n",
    "        varmap = json.load(fp)\n",
    "  \n",
    "    date = \"\"\n",
    "    data = {}\n",
    "    with open(fn, \"r\") as fp:\n",
    "        reader = csv.reader(fp)\n",
    "        header = next(reader)\n",
    "        for row in reader:\n",
    "            d = {k:v.strip() for k, v in zip(header, row)}\n",
    "            d_new = {}\n",
    "            for k in varmap.keys():\n",
    "                if (k == \"region_text\") | (k == \"urbanrural_text\"):\n",
    "                    d_new[k] = d[k]\n",
    "                    continue\n",
    "                try:\n",
    "                    d_new[k] = float(d[k])\n",
    "                except ValueError:\n",
    "                    pass\n",
    "            k = \"\"\n",
    "            if d[\"county\"] != \"\":\n",
    "                k = d[\"state\"].zfill(2) + d[\"county\"].zfill(3)\n",
    "            elif d[\"state\"] != \"\":\n",
    "                k = d[\"state\"].zfill(2)\n",
    "            else:\n",
    "                k = \"_nation\"\n",
    "            data[k] = d_new \n",
    "            if date < d[\"date\"]:\n",
    "                date = d[\"date\"]\n",
    "\n",
    "    with open(\"../data.json\", \"w\") as fp:\n",
    "        json.dump(data, fp)\n",
    "\n",
    "    with open(\"../date.json\", \"w\") as fp:\n",
    "        json.dump({\"date\": date}, fp, indent=2)\n",
    "\n",
    "if __name__==\"__main__\":\n",
    "\n",
    "    nationalraw()\n"
   ]
  },
  {
   "cell_type": "code",
   "execution_count": 61,
   "metadata": {},
   "outputs": [],
   "source": [
    "import csv\n",
    "import json\n",
    "import pandas as pd\n",
    "import numpy as np\n",
    "from pprint import pprint\n",
    "from collections import defaultdict, Counter\n",
    "from dateutil.parser import *\n",
    "nationalraw = pd.read_csv(\"nationalraw.csv\", dtype = {'state': str, 'county': str, 'countynum': str})"
   ]
  },
  {
   "cell_type": "code",
   "execution_count": 62,
   "metadata": {
    "scrolled": true
   },
   "outputs": [
    {
     "data": {
      "text/plain": [
       "0          NaN\n",
       "1         1001\n",
       "2         1001\n",
       "3         1001\n",
       "4         1001\n",
       "5         1001\n",
       "6         1001\n",
       "7         1001\n",
       "8         1001\n",
       "9         1001\n",
       "10        1001\n",
       "11        1001\n",
       "12        1001\n",
       "13        1001\n",
       "14        1001\n",
       "15        1001\n",
       "16        1001\n",
       "17        1001\n",
       "18        1001\n",
       "19        1001\n",
       "20        1001\n",
       "21        1001\n",
       "22        1001\n",
       "23        1001\n",
       "24        1001\n",
       "25        1001\n",
       "26        1001\n",
       "27        1001\n",
       "28        1001\n",
       "29        1001\n",
       "         ...  \n",
       "93261    56045\n",
       "93262    56045\n",
       "93263    56045\n",
       "93264    56045\n",
       "93265    56045\n",
       "93266    56045\n",
       "93267    56045\n",
       "93268    56045\n",
       "93269    56045\n",
       "93270    56045\n",
       "93271    56045\n",
       "93272    56045\n",
       "93273    56045\n",
       "93274    56045\n",
       "93275    56045\n",
       "93276    56045\n",
       "93277    56045\n",
       "93278    56045\n",
       "93279    56045\n",
       "93280    56045\n",
       "93281    56045\n",
       "93282    56045\n",
       "93283    56045\n",
       "93284    56045\n",
       "93285    56045\n",
       "93286    56045\n",
       "93287    56045\n",
       "93288    56045\n",
       "93289    56045\n",
       "93290      NaN\n",
       "Name: countynum, Length: 93291, dtype: object"
      ]
     },
     "execution_count": 62,
     "metadata": {},
     "output_type": "execute_result"
    }
   ],
   "source": [
    "nationalraw[\"countynum\"]"
   ]
  },
  {
   "cell_type": "code",
   "execution_count": 65,
   "metadata": {},
   "outputs": [
    {
     "data": {
      "text/plain": [
       "True"
      ]
     },
     "execution_count": 65,
     "metadata": {},
     "output_type": "execute_result"
    }
   ],
   "source": [
    "len(nationalraw[nationalraw[\"county\"].notna()])\n",
    "np.isnan(nationalraw[\"county\"][0])\n",
    "pd.isnull(nationalraw[\"county\"][0]) == False\n",
    "len(nationalraw[\"countynum\"][2]) ==4"
   ]
  },
  {
   "cell_type": "code",
   "execution_count": 71,
   "metadata": {
    "scrolled": true
   },
   "outputs": [
    {
     "name": "stderr",
     "output_type": "stream",
     "text": [
      "/Applications/Anaconda/anaconda3/lib/python3.7/site-packages/ipykernel_launcher.py:4: SettingWithCopyWarning: \n",
      "A value is trying to be set on a copy of a slice from a DataFrame\n",
      "\n",
      "See the caveats in the documentation: http://pandas.pydata.org/pandas-docs/stable/indexing.html#indexing-view-versus-copy\n",
      "  after removing the cwd from sys.path.\n"
     ]
    },
    {
     "name": "stdout",
     "output_type": "stream",
     "text": [
      "CPU times: user 3min 33s, sys: 589 ms, total: 3min 33s\n",
      "Wall time: 3min 34s\n"
     ]
    }
   ],
   "source": [
    "%%time\n",
    "for i in range(len(nationalraw)):\n",
    "    if (pd.isnull(nationalraw[\"countynum\"][i]) == False):\n",
    "        if (len(nationalraw[\"countynum\"][i]) == 4):\n",
    "            nationalraw[\"countynum\"][i] = \"0\" + nationalraw[\"countynum\"][i]\n",
    "        \n",
    "     \n",
    "    "
   ]
  },
  {
   "cell_type": "code",
   "execution_count": 79,
   "metadata": {},
   "outputs": [],
   "source": [
    "all_counties = nationalraw[nationalraw[\"countynum\"].notna()]"
   ]
  },
  {
   "cell_type": "code",
   "execution_count": 94,
   "metadata": {},
   "outputs": [
    {
     "name": "stdout",
     "output_type": "stream",
     "text": [
      "Collecting geopandas==0.3.0\n",
      "  Using cached https://files.pythonhosted.org/packages/0a/0e/8ae74743ed7915ddb7d70cc8dfa8fc0b9b9cc81205c6e288a01915a46192/geopandas-0.3.0-py2.py3-none-any.whl\n",
      "Collecting pyproj (from geopandas==0.3.0)\n",
      "\u001b[?25l  Downloading https://files.pythonhosted.org/packages/2a/e3/a2870af7668b549e12d40764d471edb70aebbe2af5cce71c709a8de68145/pyproj-3.0.0.post1-cp37-cp37m-macosx_10_9_x86_64.whl (7.4MB)\n",
      "\u001b[K     |████████████████████████████████| 7.4MB 6.1MB/s eta 0:00:01\n",
      "\u001b[?25hCollecting fiona (from geopandas==0.3.0)\n",
      "\u001b[?25l  Downloading https://files.pythonhosted.org/packages/e2/e7/be804c22a21678d79753662e1a10330654c3b748d9f880fcabfa1130943e/Fiona-1.8.18-cp37-cp37m-macosx_10_9_x86_64.whl (14.8MB)\n",
      "\u001b[K     |████████████████████████████████| 14.8MB 34.7MB/s eta 0:00:01\n",
      "\u001b[?25hCollecting descartes (from geopandas==0.3.0)\n",
      "  Downloading https://files.pythonhosted.org/packages/e5/b6/1ed2eb03989ae574584664985367ba70cd9cf8b32ee8cad0e8aaeac819f3/descartes-1.1.0-py3-none-any.whl\n",
      "Requirement already satisfied: pandas in /Users/starsdliu/anaconda3/lib/python3.7/site-packages (from geopandas==0.3.0) (0.25.3)\n",
      "Collecting shapely (from geopandas==0.3.0)\n",
      "  Using cached https://files.pythonhosted.org/packages/21/23/c7e6882fbb9239d54b6794a7f1a78125a53f172751bdbdaf17463101f464/Shapely-1.7.1-cp37-cp37m-macosx_10_9_x86_64.whl\n",
      "Requirement already satisfied: certifi in /Users/starsdliu/anaconda3/lib/python3.7/site-packages (from pyproj->geopandas==0.3.0) (2020.4.5.1)\n",
      "Requirement already satisfied: click<8,>=4.0 in /Users/starsdliu/anaconda3/lib/python3.7/site-packages (from fiona->geopandas==0.3.0) (7.0)\n",
      "Collecting cligj>=0.5 (from fiona->geopandas==0.3.0)\n",
      "  Downloading https://files.pythonhosted.org/packages/42/1e/947eadf10d6804bf276eb8a038bd5307996dceaaa41cfd21b7a15ec62f5d/cligj-0.7.1-py3-none-any.whl\n",
      "Requirement already satisfied: six>=1.7 in /Users/starsdliu/anaconda3/lib/python3.7/site-packages (from fiona->geopandas==0.3.0) (1.12.0)\n",
      "Collecting click-plugins>=1.0 (from fiona->geopandas==0.3.0)\n",
      "  Downloading https://files.pythonhosted.org/packages/e9/da/824b92d9942f4e472702488857914bdd50f73021efea15b4cad9aca8ecef/click_plugins-1.1.1-py2.py3-none-any.whl\n",
      "Collecting munch (from fiona->geopandas==0.3.0)\n",
      "  Downloading https://files.pythonhosted.org/packages/cc/ab/85d8da5c9a45e072301beb37ad7f833cd344e04c817d97e0cc75681d248f/munch-2.5.0-py2.py3-none-any.whl\n",
      "Requirement already satisfied: attrs>=17 in /Users/starsdliu/anaconda3/lib/python3.7/site-packages (from fiona->geopandas==0.3.0) (19.1.0)\n",
      "Requirement already satisfied: matplotlib in /Users/starsdliu/anaconda3/lib/python3.7/site-packages (from descartes->geopandas==0.3.0) (3.1.0)\n",
      "Requirement already satisfied: numpy>=1.13.3 in /Users/starsdliu/.local/lib/python3.7/site-packages (from pandas->geopandas==0.3.0) (1.17.0)\n",
      "Requirement already satisfied: pytz>=2017.2 in /Users/starsdliu/anaconda3/lib/python3.7/site-packages (from pandas->geopandas==0.3.0) (2019.1)\n",
      "Requirement already satisfied: python-dateutil>=2.6.1 in /Users/starsdliu/anaconda3/lib/python3.7/site-packages (from pandas->geopandas==0.3.0) (2.8.0)\n",
      "Requirement already satisfied: cycler>=0.10 in /Users/starsdliu/anaconda3/lib/python3.7/site-packages (from matplotlib->descartes->geopandas==0.3.0) (0.10.0)\n",
      "Requirement already satisfied: kiwisolver>=1.0.1 in /Users/starsdliu/anaconda3/lib/python3.7/site-packages (from matplotlib->descartes->geopandas==0.3.0) (1.1.0)\n",
      "Requirement already satisfied: pyparsing!=2.0.4,!=2.1.2,!=2.1.6,>=2.0.1 in /Users/starsdliu/anaconda3/lib/python3.7/site-packages (from matplotlib->descartes->geopandas==0.3.0) (2.4.0)\n",
      "Requirement already satisfied: setuptools in /Users/starsdliu/anaconda3/lib/python3.7/site-packages (from kiwisolver>=1.0.1->matplotlib->descartes->geopandas==0.3.0) (47.1.1)\n",
      "Installing collected packages: pyproj, cligj, click-plugins, munch, fiona, descartes, shapely, geopandas\n",
      "Successfully installed click-plugins-1.1.1 cligj-0.7.1 descartes-1.1.0 fiona-1.8.18 geopandas-0.3.0 munch-2.5.0 pyproj-3.0.0.post1 shapely-1.7.1\n",
      "Collecting pyshp==1.2.10\n",
      "\u001b[?25l  Downloading https://files.pythonhosted.org/packages/c2/cc/1851049f2740d09c7bd8e4b464b1b78638723f6173e71d44aea12deca1f8/pyshp-1.2.10.tar.gz (176kB)\n",
      "\u001b[K     |████████████████████████████████| 184kB 3.8MB/s eta 0:00:01\n",
      "\u001b[?25hBuilding wheels for collected packages: pyshp\n",
      "  Building wheel for pyshp (setup.py) ... \u001b[?25ldone\n",
      "\u001b[?25h  Stored in directory: /Users/starsdliu/Library/Caches/pip/wheels/ba/1a/67/6a12977f362c33a15edc753daf92c6f01879dbf4db76faf0dd\n",
      "Successfully built pyshp\n",
      "Installing collected packages: pyshp\n",
      "Successfully installed pyshp-1.2.10\n",
      "Collecting shapely==1.6.3\n",
      "\u001b[?25l  Downloading https://files.pythonhosted.org/packages/c0/10/1457c46e20b509108a32a5776141d78d410161dae8ab8da74efe67c530eb/Shapely-1.6.3.tar.gz (223kB)\n",
      "\u001b[K     |████████████████████████████████| 225kB 241kB/s eta 0:00:01\n",
      "\u001b[31m    ERROR: Complete output from command python setup.py egg_info:\u001b[0m\n",
      "\u001b[31m    ERROR: Failed `CDLL(/Library/Frameworks/GEOS.framework/Versions/Current/GEOS)`\n",
      "    Failed `CDLL(/opt/local/lib/libgeos_c.dylib)`\n",
      "    Traceback (most recent call last):\n",
      "      File \"<string>\", line 1, in <module>\n",
      "      File \"/private/var/folders/1j/51lcdjyn7wv16gw50vwl3fvr0000gn/T/pip-install-4pfntwcm/shapely/setup.py\", line 80, in <module>\n",
      "        from shapely._buildcfg import geos_version_string, geos_version, \\\n",
      "      File \"/private/var/folders/1j/51lcdjyn7wv16gw50vwl3fvr0000gn/T/pip-install-4pfntwcm/shapely/shapely/_buildcfg.py\", line 185, in <module>\n",
      "        lgeos = load_dll('geos_c', fallbacks=alt_paths)\n",
      "      File \"/private/var/folders/1j/51lcdjyn7wv16gw50vwl3fvr0000gn/T/pip-install-4pfntwcm/shapely/shapely/_buildcfg.py\", line 161, in load_dll\n",
      "        libname, fallbacks or []))\n",
      "    OSError: Could not find library geos_c or load any of its variants ['/Library/Frameworks/GEOS.framework/Versions/Current/GEOS', '/opt/local/lib/libgeos_c.dylib']\n",
      "    ----------------------------------------\u001b[0m\n",
      "\u001b[31mERROR: Command \"python setup.py egg_info\" failed with error code 1 in /private/var/folders/1j/51lcdjyn7wv16gw50vwl3fvr0000gn/T/pip-install-4pfntwcm/shapely/\u001b[0m\n",
      "\u001b[?25h"
     ]
    }
   ],
   "source": [
    "# all_counties[\"poverty\"]\n",
    "!pip install geopandas==0.3.0\n",
    "!pip install pyshp==1.2.10\n",
    "!pip install shapely==1.6.3"
   ]
  },
  {
   "cell_type": "code",
   "execution_count": 95,
   "metadata": {},
   "outputs": [
    {
     "ename": "ModuleNotFoundError",
     "evalue": "No module named 'plotly'",
     "output_type": "error",
     "traceback": [
      "\u001b[0;31m---------------------------------------------------------------------------\u001b[0m",
      "\u001b[0;31mModuleNotFoundError\u001b[0m                       Traceback (most recent call last)",
      "\u001b[0;32m<ipython-input-95-de61aea8f13f>\u001b[0m in \u001b[0;36m<module>\u001b[0;34m\u001b[0m\n\u001b[0;32m----> 1\u001b[0;31m \u001b[0;32mimport\u001b[0m \u001b[0mplotly\u001b[0m\u001b[0;34m.\u001b[0m\u001b[0mfigure_factory\u001b[0m \u001b[0;32mas\u001b[0m \u001b[0mff\u001b[0m\u001b[0;34m\u001b[0m\u001b[0;34m\u001b[0m\u001b[0m\n\u001b[0m\u001b[1;32m      2\u001b[0m \u001b[0;34m\u001b[0m\u001b[0m\n\u001b[1;32m      3\u001b[0m \u001b[0mfips\u001b[0m \u001b[0;34m=\u001b[0m \u001b[0mall_counties\u001b[0m\u001b[0;34m[\u001b[0m\u001b[0;34m\"countynum\"\u001b[0m\u001b[0;34m]\u001b[0m\u001b[0;34m\u001b[0m\u001b[0;34m\u001b[0m\u001b[0m\n\u001b[1;32m      4\u001b[0m \u001b[0mvalues\u001b[0m \u001b[0;34m=\u001b[0m \u001b[0mall_counties\u001b[0m\u001b[0;34m[\u001b[0m\u001b[0;34m\"poverty\"\u001b[0m\u001b[0;34m]\u001b[0m\u001b[0;34m\u001b[0m\u001b[0;34m\u001b[0m\u001b[0m\n\u001b[1;32m      5\u001b[0m \u001b[0;34m\u001b[0m\u001b[0m\n",
      "\u001b[0;31mModuleNotFoundError\u001b[0m: No module named 'plotly'"
     ]
    }
   ],
   "source": [
    "import plotly.figure_factory as ff\n",
    "\n",
    "fips = all_counties[\"countynum\"]\n",
    "values = all_counties[\"poverty\"]\n",
    "\n",
    "fig = ff.create_choropleth(fips=fips, values=values)\n",
    "fig.layout.template = None\n",
    "fig.show()"
   ]
  },
  {
   "cell_type": "code",
   "execution_count": null,
   "metadata": {},
   "outputs": [],
   "source": []
  }
 ],
 "metadata": {
  "kernelspec": {
   "display_name": "Python 3",
   "language": "python",
   "name": "python3"
  },
  "language_info": {
   "codemirror_mode": {
    "name": "ipython",
    "version": 3
   },
   "file_extension": ".py",
   "mimetype": "text/x-python",
   "name": "python",
   "nbconvert_exporter": "python",
   "pygments_lexer": "ipython3",
   "version": "3.7.3"
  }
 },
 "nbformat": 4,
 "nbformat_minor": 2
}
