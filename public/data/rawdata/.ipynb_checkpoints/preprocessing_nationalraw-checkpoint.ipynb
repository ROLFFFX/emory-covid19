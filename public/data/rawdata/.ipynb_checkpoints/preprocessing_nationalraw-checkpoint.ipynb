{
 "cells": [
  {
   "cell_type": "code",
   "execution_count": 1,
   "metadata": {},
   "outputs": [],
   "source": [
    "import csv\n",
    "import json\n",
    "import pandas as pd\n",
    "import numpy as np\n",
    "from pprint import pprint\n",
    "from collections import defaultdict, Counter\n",
    "from dateutil.parser import *\n",
    "\n",
    "\n",
    "\n",
    "\n",
    "def nationalraw(fn=\"nationalraw.csv\"):\n",
    "\n",
    "    varmap = {}\n",
    "    with open(\"variable_mapping.json\", \"r\") as fp:\n",
    "        varmap = json.load(fp)\n",
    "  \n",
    "    date = \"\"\n",
    "    data = {}\n",
    "    with open(fn, \"r\") as fp:\n",
    "        reader = csv.reader(fp)\n",
    "        header = next(reader)\n",
    "        for row in reader:\n",
    "            d = {k:v.strip() for k, v in zip(header, row)}\n",
    "            d_new = {}\n",
    "            for k in varmap.keys():\n",
    "                if (k == \"region_text\") | (k == \"urbanrural_text\"):\n",
    "                    d_new[k] = d[k]\n",
    "                    continue\n",
    "                try:\n",
    "                    d_new[k] = float(d[k])\n",
    "                except ValueError:\n",
    "                    pass\n",
    "            k = \"\"\n",
    "            if d[\"county\"] != \"\":\n",
    "                k = d[\"state\"].zfill(2) + d[\"county\"].zfill(3)\n",
    "            elif d[\"state\"] != \"\":\n",
    "                k = d[\"state\"].zfill(2)\n",
    "            else:\n",
    "                k = \"_nation\"\n",
    "            data[k] = d_new \n",
    "            if date < d[\"date\"]:\n",
    "                date = d[\"date\"]\n",
    "\n",
    "    with open(\"../data.json\", \"w\") as fp:\n",
    "        json.dump(data, fp)\n",
    "\n",
    "    with open(\"../date.json\", \"w\") as fp:\n",
    "        json.dump({\"date\": date}, fp, indent=2)\n",
    "\n",
    "if __name__==\"__main__\":\n",
    "\n",
    "    nationalraw()\n"
   ]
  },
  {
   "cell_type": "code",
   "execution_count": 61,
   "metadata": {},
   "outputs": [],
   "source": [
    "import csv\n",
    "import json\n",
    "import pandas as pd\n",
    "import numpy as np\n",
    "from pprint import pprint\n",
    "from collections import defaultdict, Counter\n",
    "from dateutil.parser import *\n",
    "nationalraw = pd.read_csv(\"nationalraw.csv\", dtype = {'state': str, 'county': str, 'countynum': str})"
   ]
  },
  {
   "cell_type": "code",
   "execution_count": 62,
   "metadata": {
    "scrolled": true
   },
   "outputs": [
    {
     "data": {
      "text/plain": [
       "0          NaN\n",
       "1         1001\n",
       "2         1001\n",
       "3         1001\n",
       "4         1001\n",
       "5         1001\n",
       "6         1001\n",
       "7         1001\n",
       "8         1001\n",
       "9         1001\n",
       "10        1001\n",
       "11        1001\n",
       "12        1001\n",
       "13        1001\n",
       "14        1001\n",
       "15        1001\n",
       "16        1001\n",
       "17        1001\n",
       "18        1001\n",
       "19        1001\n",
       "20        1001\n",
       "21        1001\n",
       "22        1001\n",
       "23        1001\n",
       "24        1001\n",
       "25        1001\n",
       "26        1001\n",
       "27        1001\n",
       "28        1001\n",
       "29        1001\n",
       "         ...  \n",
       "93261    56045\n",
       "93262    56045\n",
       "93263    56045\n",
       "93264    56045\n",
       "93265    56045\n",
       "93266    56045\n",
       "93267    56045\n",
       "93268    56045\n",
       "93269    56045\n",
       "93270    56045\n",
       "93271    56045\n",
       "93272    56045\n",
       "93273    56045\n",
       "93274    56045\n",
       "93275    56045\n",
       "93276    56045\n",
       "93277    56045\n",
       "93278    56045\n",
       "93279    56045\n",
       "93280    56045\n",
       "93281    56045\n",
       "93282    56045\n",
       "93283    56045\n",
       "93284    56045\n",
       "93285    56045\n",
       "93286    56045\n",
       "93287    56045\n",
       "93288    56045\n",
       "93289    56045\n",
       "93290      NaN\n",
       "Name: countynum, Length: 93291, dtype: object"
      ]
     },
     "execution_count": 62,
     "metadata": {},
     "output_type": "execute_result"
    }
   ],
   "source": [
    "nationalraw[\"countynum\"]"
   ]
  },
  {
   "cell_type": "code",
   "execution_count": 65,
   "metadata": {},
   "outputs": [
    {
     "data": {
      "text/plain": [
       "True"
      ]
     },
     "execution_count": 65,
     "metadata": {},
     "output_type": "execute_result"
    }
   ],
   "source": [
    "len(nationalraw[nationalraw[\"county\"].notna()])\n",
    "np.isnan(nationalraw[\"county\"][0])\n",
    "pd.isnull(nationalraw[\"county\"][0]) == False\n",
    "len(nationalraw[\"countynum\"][2]) ==4"
   ]
  },
  {
   "cell_type": "code",
   "execution_count": 71,
   "metadata": {
    "scrolled": true
   },
   "outputs": [
    {
     "name": "stderr",
     "output_type": "stream",
     "text": [
      "/Applications/Anaconda/anaconda3/lib/python3.7/site-packages/ipykernel_launcher.py:4: SettingWithCopyWarning: \n",
      "A value is trying to be set on a copy of a slice from a DataFrame\n",
      "\n",
      "See the caveats in the documentation: http://pandas.pydata.org/pandas-docs/stable/indexing.html#indexing-view-versus-copy\n",
      "  after removing the cwd from sys.path.\n"
     ]
    },
    {
     "name": "stdout",
     "output_type": "stream",
     "text": [
      "CPU times: user 3min 33s, sys: 589 ms, total: 3min 33s\n",
      "Wall time: 3min 34s\n"
     ]
    }
   ],
   "source": [
    "%%time\n",
    "for i in range(len(nationalraw)):\n",
    "    if (pd.isnull(nationalraw[\"countynum\"][i]) == False):\n",
    "        if (len(nationalraw[\"countynum\"][i]) == 4):\n",
    "            nationalraw[\"countynum\"][i] = \"0\" + nationalraw[\"countynum\"][i]\n",
    "        \n",
    "     \n",
    "    "
   ]
  },
  {
   "cell_type": "code",
   "execution_count": 79,
   "metadata": {},
   "outputs": [],
   "source": [
    "all_counties = nationalraw[nationalraw[\"countynum\"].notna()]"
   ]
  },
  {
   "cell_type": "code",
   "execution_count": 91,
   "metadata": {},
   "outputs": [
    {
     "name": "stdout",
     "output_type": "stream",
     "text": [
      "Collecting plotly.figure_factory\n",
      "\u001b[31m  ERROR: Could not find a version that satisfies the requirement plotly.figure_factory (from versions: none)\u001b[0m\n",
      "\u001b[31mERROR: No matching distribution found for plotly.figure_factory\u001b[0m\n"
     ]
    }
   ],
   "source": [
    "# all_counties[\"poverty\"]\n",
    "!pip install geopandas==0.3.0\n",
    "!pip install pyshp==1.2.10\n",
    "!pip install shapely==1.6.3"
   ]
  },
  {
   "cell_type": "code",
   "execution_count": 90,
   "metadata": {},
   "outputs": [
    {
     "ename": "ModuleNotFoundError",
     "evalue": "No module named 'plotly'",
     "output_type": "error",
     "traceback": [
      "\u001b[0;31m---------------------------------------------------------------------------\u001b[0m",
      "\u001b[0;31mModuleNotFoundError\u001b[0m                       Traceback (most recent call last)",
      "\u001b[0;32m<ipython-input-90-de61aea8f13f>\u001b[0m in \u001b[0;36m<module>\u001b[0;34m\u001b[0m\n\u001b[0;32m----> 1\u001b[0;31m \u001b[0;32mimport\u001b[0m \u001b[0mplotly\u001b[0m\u001b[0;34m.\u001b[0m\u001b[0mfigure_factory\u001b[0m \u001b[0;32mas\u001b[0m \u001b[0mff\u001b[0m\u001b[0;34m\u001b[0m\u001b[0;34m\u001b[0m\u001b[0m\n\u001b[0m\u001b[1;32m      2\u001b[0m \u001b[0;34m\u001b[0m\u001b[0m\n\u001b[1;32m      3\u001b[0m \u001b[0mfips\u001b[0m \u001b[0;34m=\u001b[0m \u001b[0mall_counties\u001b[0m\u001b[0;34m[\u001b[0m\u001b[0;34m\"countynum\"\u001b[0m\u001b[0;34m]\u001b[0m\u001b[0;34m\u001b[0m\u001b[0;34m\u001b[0m\u001b[0m\n\u001b[1;32m      4\u001b[0m \u001b[0mvalues\u001b[0m \u001b[0;34m=\u001b[0m \u001b[0mall_counties\u001b[0m\u001b[0;34m[\u001b[0m\u001b[0;34m\"poverty\"\u001b[0m\u001b[0;34m]\u001b[0m\u001b[0;34m\u001b[0m\u001b[0;34m\u001b[0m\u001b[0m\n\u001b[1;32m      5\u001b[0m \u001b[0;34m\u001b[0m\u001b[0m\n",
      "\u001b[0;31mModuleNotFoundError\u001b[0m: No module named 'plotly'"
     ]
    }
   ],
   "source": [
    "import plotly.figure_factory as ff\n",
    "\n",
    "fips = all_counties[\"countynum\"]\n",
    "values = all_counties[\"poverty\"]\n",
    "\n",
    "fig = ff.create_choropleth(fips=fips, values=values)\n",
    "fig.layout.template = None\n",
    "fig.show()"
   ]
  },
  {
   "cell_type": "code",
   "execution_count": null,
   "metadata": {},
   "outputs": [],
   "source": []
  }
 ],
 "metadata": {
  "kernelspec": {
   "display_name": "Python 3",
   "language": "python",
   "name": "python3"
  },
  "language_info": {
   "codemirror_mode": {
    "name": "ipython",
    "version": 3
   },
   "file_extension": ".py",
   "mimetype": "text/x-python",
   "name": "python",
   "nbconvert_exporter": "python",
   "pygments_lexer": "ipython3",
   "version": "3.7.3"
  }
 },
 "nbformat": 4,
 "nbformat_minor": 2
}
